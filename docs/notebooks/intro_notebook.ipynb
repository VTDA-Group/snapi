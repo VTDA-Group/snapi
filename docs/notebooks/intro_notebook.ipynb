{
 "cells": [
  {
   "cell_type": "markdown",
   "id": "textblock1",
   "metadata": {
    "cell_marker": "\"\"\""
   },
   "source": [
    "# SNAPI Demo\n",
    "This notebook showcases very basic functionality of SNAPI, including querying databases, saving/loading files and manipulating Transient objects."
   ]
  },
  {
   "cell_type": "markdown",
   "id": "76c5d6d7",
   "metadata": {},
   "source": [
    "## (1) Creating a Transient object for 2023ixf.\n",
    "Here, we will create a mostly empty Transient object for 2023ixf. We will add information through queries."
   ]
  },
  {
   "cell_type": "code",
   "execution_count": null,
   "id": "codeblock1",
   "metadata": {},
   "outputs": [],
   "source": [
    "from snapi import Transient\n",
    "\n",
    "ixf_transient = Transient(iid=\"2023ixf\")\n",
    "print(ixf_transient.id)\n",
    "print(ixf_transient.coordinates)"
   ]
  },
  {
   "cell_type": "markdown",
   "id": "textblock2",
   "metadata": {
    "cell_marker": "\"\"\"",
    "lines_to_next_cell": 1
   },
   "source": [
    "Next, we'll call TNS, ALeRCE, and ANTARES to add information based on the IAU name."
   ]
  },
  {
   "cell_type": "code",
   "execution_count": null,
   "id": "codeblock2",
   "metadata": {},
   "outputs": [],
   "source": [
    "from snapi.query_agents import TNSQueryAgent, ALeRCEQueryAgent, ANTARESQueryAgent\n",
    "\n",
    "tns_query_agent = TNSQueryAgent()\n",
    "alerce_query_agent = ALeRCEQueryAgent()\n",
    "antares_query_agent = ANTARESQueryAgent()\n",
    "\n",
    "for agent in [tns_query_agent, antares_query_agent]:\n",
    "    query_results, _ = agent.query_transient(ixf_transient)\n",
    "    for query_result in query_results:\n",
    "        ixf_transient.ingest_query_info(query_result.to_dict())\n",
    "    print(ixf_transient.internal_names)"
   ]
  },
  {
   "cell_type": "code",
   "execution_count": null,
   "id": "codeblock3",
   "metadata": {},
   "outputs": [],
   "source": [
    "# see all unique filters\n",
    "print(len(ixf_transient.photometry))\n",
    "for lc in ixf_transient.photometry.light_curves:\n",
    "    print(lc.filter)"
   ]
  },
  {
   "cell_type": "code",
   "execution_count": null,
   "id": "bb9be410",
   "metadata": {},
   "outputs": [],
   "source": [
    "# see all extracted information\n",
    "print(ixf_transient.coordinates)\n",
    "print(ixf_transient.redshift)\n",
    "print(ixf_transient.spec_class)  # TODO: add spec class extraction"
   ]
  },
  {
   "cell_type": "code",
   "execution_count": null,
   "id": "f26dc275",
   "metadata": {},
   "outputs": [],
   "source": [
    "# plot all photometry\n",
    "import matplotlib.pyplot as plt\n",
    "import numpy as np\n",
    "\n",
    "fig, ax = plt.subplots(figsize=(8, 6))\n",
    "ixf_transient.photometry.plot(ax)\n",
    "plt.legend(ncols=4, loc=\"lower center\")\n",
    "plt.show()"
   ]
  },
  {
   "cell_type": "code",
   "execution_count": null,
   "id": "363ab3db",
   "metadata": {},
   "outputs": [],
   "source": [
    "# can also plot in flux space\n",
    "import matplotlib.pyplot as plt\n",
    "import numpy as np\n",
    "\n",
    "fig, ax = plt.subplots(figsize=(8, 6))\n",
    "ixf_transient.photometry.plot(ax, mags=False)\n",
    "plt.legend(ncols=4, loc=\"lower center\")\n",
    "plt.show()"
   ]
  },
  {
   "cell_type": "code",
   "execution_count": null,
   "id": "75e43ea8",
   "metadata": {},
   "outputs": [],
   "source": [
    "from snapi import Formatter\n",
    "\n",
    "# can also plot each LC individually\n",
    "formatter = Formatter()\n",
    "for lc in ixf_transient.photometry.light_curves:\n",
    "    fig, ax = plt.subplots(figsize=(6, 4))\n",
    "    lc.plot(ax, formatter)\n",
    "    plt.legend()\n",
    "    plt.show()"
   ]
  },
  {
   "cell_type": "code",
   "execution_count": null,
   "id": "2d897288",
   "metadata": {},
   "outputs": [],
   "source": []
  },
  {
   "cell_type": "code",
   "execution_count": null,
   "id": "4ad3e31f",
   "metadata": {},
   "outputs": [],
   "source": []
  }
 ],
 "metadata": {
  "jupytext": {
   "cell_markers": "\"\"\""
  },
  "kernelspec": {
   "display_name": "Python 3",
   "language": "python",
   "name": "python3"
  },
  "language_info": {
   "codemirror_mode": {
    "name": "ipython",
    "version": 3
   },
   "file_extension": ".py",
   "mimetype": "text/x-python",
   "name": "python",
   "nbconvert_exporter": "python",
   "pygments_lexer": "ipython3",
   "version": "3.12.2"
  }
 },
 "nbformat": 4,
 "nbformat_minor": 5
}
